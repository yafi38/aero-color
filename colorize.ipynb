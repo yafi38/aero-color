{
 "cells": [
  {
   "cell_type": "code",
   "execution_count": 1,
   "metadata": {
    "collapsed": true
   },
   "outputs": [],
   "source": [
    "from utility import *"
   ]
  },
  {
   "cell_type": "code",
   "execution_count": 2,
   "outputs": [],
   "source": [
    "SIZE = 256"
   ],
   "metadata": {
    "collapsed": false,
    "pycharm": {
     "name": "#%%\n"
    }
   }
  },
  {
   "cell_type": "code",
   "execution_count": 19,
   "outputs": [],
   "source": [
    "# Create model and load weights\n",
    "\n",
    "model_a = get_model(SIZE, 64)\n",
    "model_b = get_model(SIZE, 64)\n",
    "model_a.load_weights(\"aero-color_a_10k.h5\")\n",
    "model_b.load_weights(\"aero-color_b_10k.h5\")"
   ],
   "metadata": {
    "collapsed": false,
    "pycharm": {
     "name": "#%%\n"
    }
   }
  },
  {
   "cell_type": "code",
   "execution_count": 39,
   "outputs": [],
   "source": [
    "# Load image for bnw only\n",
    "img_path = \"4326.jpeg\"\n",
    "img = cv2.imread(img_path)\n",
    "img = resize_image(img, SIZE)\n",
    "X = img[:, :, 0] / 255"
   ],
   "metadata": {
    "collapsed": false,
    "pycharm": {
     "name": "#%%\n"
    }
   }
  },
  {
   "cell_type": "code",
   "execution_count": 24,
   "outputs": [],
   "source": [
    "# Load image for already colored image\n",
    "img_path = \"color-tree.jpg\"\n",
    "img = cv2.imread(img_path)\n",
    "img = resize_image(img, SIZE)\n",
    "lab = cv2.cvtColor(img, cv2.COLOR_BGR2LAB)\n",
    "l, a, b = cv2.split(lab)\n",
    "X = l / 255.0"
   ],
   "metadata": {
    "collapsed": false,
    "pycharm": {
     "name": "#%%\n"
    }
   }
  },
  {
   "cell_type": "code",
   "execution_count": 40,
   "outputs": [],
   "source": [
    "# Predict a and b using X\n",
    "a_hats = model_a.predict(X.reshape(1, SIZE, SIZE, 1))\n",
    "b_hats = model_b.predict(X.reshape(1, SIZE, SIZE, 1))\n",
    "\n",
    "a_hats = np.log(a_hats) / 0.38\n",
    "a_hats = np.exp(a_hats) / np.sum(np.exp(a_hats), axis=3, keepdims=True)\n",
    "a_hats = np.matmul(a_hats, bin_val)\n",
    "\n",
    "b_hats = np.log(b_hats) / 0.38\n",
    "b_hats = np.exp(b_hats) / np.sum(np.exp(b_hats), axis=3, keepdims=True)\n",
    "b_hats = np.matmul(b_hats, bin_val)"
   ],
   "metadata": {
    "collapsed": false,
    "pycharm": {
     "name": "#%%\n"
    }
   }
  },
  {
   "cell_type": "code",
   "execution_count": 41,
   "outputs": [
    {
     "data": {
      "text/plain": "True"
     },
     "execution_count": 41,
     "metadata": {},
     "output_type": "execute_result"
    }
   ],
   "source": [
    "# Save Image\n",
    "L = X.reshape((SIZE, SIZE)) * 255\n",
    "a_hat = a_hats[0, :, :].astype('int')\n",
    "b_hat = b_hats[0, :, :].astype('int')\n",
    "lab = np.array([L, a_hat, b_hat]).transpose((1, 2, 0)).astype('uint8')\n",
    "img2 = cv2.cvtColor(lab, cv2.COLOR_Lab2BGR)\n",
    "cv2.imwrite('2. predict.jpeg', img2)"
   ],
   "metadata": {
    "collapsed": false,
    "pycharm": {
     "name": "#%%\n"
    }
   }
  },
  {
   "cell_type": "code",
   "execution_count": 29,
   "outputs": [
    {
     "data": {
      "text/plain": "True"
     },
     "execution_count": 29,
     "metadata": {},
     "output_type": "execute_result"
    }
   ],
   "source": [
    "# Save the resized image for comparison\n",
    "cv2.imwrite('2. original.jpeg', L)"
   ],
   "metadata": {
    "collapsed": false,
    "pycharm": {
     "name": "#%%\n"
    }
   }
  },
  {
   "cell_type": "code",
   "execution_count": 28,
   "outputs": [
    {
     "data": {
      "text/plain": "True"
     },
     "execution_count": 28,
     "metadata": {},
     "output_type": "execute_result"
    }
   ],
   "source": [
    "# Save a and b for showing details\n",
    "cv2.imwrite('a_our.jpeg', a)\n",
    "cv2.imwrite('b_our.jpeg', b)"
   ],
   "metadata": {
    "collapsed": false,
    "pycharm": {
     "name": "#%%\n"
    }
   }
  }
 ],
 "metadata": {
  "kernelspec": {
   "name": "pycharm-db3b9cab",
   "language": "python",
   "display_name": "PyCharm (aero-color)"
  },
  "language_info": {
   "codemirror_mode": {
    "name": "ipython",
    "version": 2
   },
   "file_extension": ".py",
   "mimetype": "text/x-python",
   "name": "python",
   "nbconvert_exporter": "python",
   "pygments_lexer": "ipython2",
   "version": "2.7.6"
  }
 },
 "nbformat": 4,
 "nbformat_minor": 0
}