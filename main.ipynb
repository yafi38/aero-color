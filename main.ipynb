{
 "cells": [
  {
   "cell_type": "code",
   "execution_count": 3,
   "metadata": {},
   "outputs": [],
   "source": [
    "from tensorflow.keras.models import Model\n",
    "from tensorflow.keras.layers import Dense, Dropout, Input, ReLU, Softmax\n",
    "from tensorflow.keras.layers import Conv2D, MaxPooling2D, BatchNormalization, Conv2DTranspose, Concatenate\n",
    "from tensorflow.keras.optimizers import Adam\n",
    "from tensorflow.keras.callbacks import ModelCheckpoint\n",
    "from tensorflow.keras.utils import Sequence\n",
    "from tensorflow.keras.preprocessing.image import load_img\n",
    "from tensorflow.keras.utils import to_categorical\n"
   ]
  },
  {
   "cell_type": "code",
   "execution_count": 4,
   "metadata": {},
   "outputs": [],
   "source": [
    "import cv2\n",
    "import numpy as np"
   ]
  },
  {
   "cell_type": "code",
   "execution_count": 5,
   "metadata": {
    "collapsed": false,
    "pycharm": {
     "name": "#%%\n"
    }
   },
   "outputs": [],
   "source": [
    "from tensorflow.keras import backend as K\n",
    "\n",
    "\n",
    "def weighted_categorical_crossentropy(weights):\n",
    "    \"\"\"\n",
    "    A weighted version of keras.objectives.categorical_crossentropy\n",
    "\n",
    "    Variables:\n",
    "        weights: numpy array of shape (C,) where C is the number of classes\n",
    "\n",
    "    Usage:\n",
    "        weights = np.array([0.5,2,10]) # Class one at 0.5, class 2 twice the normal weights, class 3 10x.\n",
    "        loss = weighted_categorical_crossentropy(weights)\n",
    "        model.compile(loss=loss,optimizer='adam')\n",
    "    \"\"\"\n",
    "\n",
    "    weights = K.variable(weights)\n",
    "\n",
    "    def loss(y_true, y_pred):\n",
    "        # scale predictions so that the class probas of each sample sum to 1\n",
    "        y_pred /= K.sum(y_pred, axis=-1, keepdims=True)\n",
    "        # clip to prevent NaN's and Inf's\n",
    "        y_pred = K.clip(y_pred, K.epsilon(), 1 - K.epsilon())\n",
    "        # calc\n",
    "        loss = y_true * K.log(y_pred) * weights\n",
    "        loss = -K.sum(loss, -1)\n",
    "        return loss\n",
    "\n",
    "    return loss"
   ]
  },
  {
   "cell_type": "code",
   "execution_count": 97,
   "metadata": {
    "collapsed": false,
    "pycharm": {
     "name": "#%%\n"
    }
   },
   "outputs": [],
   "source": [
    "SIZE = 256\n",
    "N = 1000\n",
    "epochs = 3"
   ]
  },
  {
   "cell_type": "code",
   "execution_count": 7,
   "metadata": {},
   "outputs": [],
   "source": [
    "# X = np.zeros((N, SIZE, SIZE))\n",
    "# A = np.zeros((N, SIZE, SIZE))\n",
    "# B = np.zeros((N, SIZE, SIZE))\n",
    "# for i in range(1, N + 1):\n",
    "#     X[i - 1] = cv2.imread('data/bnw/' + str(i + 7) + '.jpeg', 0)\n",
    "#     A[i - 1] = cv2.imread('data/a/' + str(i + 7) + '.jpeg', 0)\n",
    "#     B[i - 1] = cv2.imread('data/b/' + str(i + 7) + '.jpeg', 0)\n",
    "\n"
   ]
  },
  {
   "cell_type": "code",
   "execution_count": 8,
   "metadata": {
    "collapsed": false,
    "pycharm": {
     "name": "#%%\n"
    }
   },
   "outputs": [],
   "source": [
    "# Data loader\n",
    "class LoadData(Sequence):\n",
    "    \"\"\"Helper to iterate over the data (as Numpy arrays).\"\"\"\n",
    "\n",
    "    def __init__(self, batch_size, img_size, img_paths, a_paths, bins):\n",
    "        self.batch_size = batch_size\n",
    "        self.img_size = img_size\n",
    "        self.img_paths = img_paths\n",
    "        self.a_paths = a_paths\n",
    "        self.bins = bins\n",
    "        self.classes = self.bins.shape[0] - 1\n",
    "\n",
    "    def __len__(self):\n",
    "        return len(self.img_paths) // self.batch_size\n",
    "\n",
    "    def __getitem__(self, idx):\n",
    "        \"\"\"Returns tuple (input, target) correspond to batch #idx.\"\"\"\n",
    "        i = idx * self.batch_size\n",
    "        batch_input_img_paths = self.img_paths[i: i + self.batch_size]\n",
    "        batch_a_paths = self.a_paths[i: i + self.batch_size]\n",
    "        x = np.zeros((self.batch_size, self.img_size, self.img_size), dtype=\"float32\")\n",
    "\n",
    "        for j, path in enumerate(batch_input_img_paths):\n",
    "            # img = load_img(path, color_mode='grayscale')\n",
    "            x[j] = cv2.imread(path, 0)\n",
    "\n",
    "        a = np.zeros((self.batch_size, self.img_size, self.img_size), dtype=\"uint8\")\n",
    "        for j, path in enumerate(batch_a_paths):\n",
    "            # img = load_img(path, color_mode=\"grayscale\")\n",
    "            a[j] = cv2.imread(path, 0)\n",
    "\n",
    "        x = x / 255\n",
    "        a_binned = np.digitize(a, self.bins) - 1\n",
    "        a_hot = to_categorical(a_binned, num_classes=self.classes)\n",
    "        x = x.reshape(self.batch_size, self.img_size, self.img_size, 1)\n",
    "        # output_shape = (self.batch_size, self.img_size, self.img_size, 1)\n",
    "\n",
    "        return x, a_hot"
   ]
  },
  {
   "cell_type": "code",
   "execution_count": 139,
   "metadata": {
    "collapsed": false,
    "pycharm": {
     "name": "#%%\n"
    }
   },
   "outputs": [],
   "source": [
    "bins_list = [0, 64, 96, 112, 120, 128, 136, 144, 160, 192, 256]\n",
    "bin_val = np.array([32, 80, 104, 116, 124, 132, 140, 152, 176, 224])\n",
    "num_bins = len(bins_list) - 1\n",
    "bins = np.array(bins_list)\n",
    "# a_binned = np.digitize(A, bins) - 1\n",
    "# b_binned = np.digitize(B, bins) - 1"
   ]
  },
  {
   "cell_type": "code",
   "execution_count": 10,
   "metadata": {
    "collapsed": false,
    "pycharm": {
     "name": "#%%\n"
    }
   },
   "outputs": [],
   "source": [
    "# One hot encode A and B\n",
    "\n",
    "# a_hot = to_categorical(a_binned)\n",
    "# b_hot = to_categorical(b_binned)"
   ]
  },
  {
   "cell_type": "code",
   "execution_count": 11,
   "metadata": {},
   "outputs": [],
   "source": [
    "# X = X.reshape(N, SIZE, SIZE, 1)\n",
    "# y = np.stack((A, B)).transpose((1, 2, 3, 0))"
   ]
  },
  {
   "cell_type": "code",
   "execution_count": 12,
   "metadata": {
    "collapsed": false,
    "pycharm": {
     "name": "#%%\n"
    }
   },
   "outputs": [],
   "source": [
    "# Normalize the data\n",
    "# X = X / 255\n",
    "# y = y / 255"
   ]
  },
  {
   "cell_type": "markdown",
   "metadata": {
    "collapsed": false,
    "pycharm": {
     "name": "#%% md\n"
    }
   },
   "source": [
    "Following are utility functions for creating a U-net Model"
   ]
  },
  {
   "cell_type": "code",
   "execution_count": 13,
   "metadata": {
    "collapsed": false,
    "pycharm": {
     "name": "#%%\n"
    }
   },
   "outputs": [],
   "source": [
    "def conv_stack(input_layer, filters):\n",
    "    conv1 = Conv2D(filters, 3, padding='same', kernel_initializer='he_normal')(input_layer)\n",
    "    batch_norm1 = BatchNormalization()(conv1)\n",
    "    relu1 = ReLU()(batch_norm1)\n",
    "\n",
    "    conv2 = Conv2D(filters, 3, padding='same', kernel_initializer='he_normal')(relu1)\n",
    "    batch_norm2 = BatchNormalization()(conv2)\n",
    "    relu2 = ReLU()(batch_norm2)\n",
    "\n",
    "    return relu2"
   ]
  },
  {
   "cell_type": "code",
   "execution_count": 14,
   "metadata": {
    "collapsed": false,
    "pycharm": {
     "name": "#%%\n"
    }
   },
   "outputs": [],
   "source": [
    "def encoder_block(input_layer, filters):\n",
    "    conv = conv_stack(input_layer, filters)\n",
    "    max_pool = MaxPooling2D(pool_size=(2, 2))(conv)\n",
    "\n",
    "    return conv, max_pool"
   ]
  },
  {
   "cell_type": "code",
   "execution_count": 15,
   "metadata": {
    "collapsed": false,
    "pycharm": {
     "name": "#%%\n"
    }
   },
   "outputs": [],
   "source": [
    "def decoder_block(input_layer, skip_layer, filters):\n",
    "    up = Conv2DTranspose(filters, 2, strides=2, padding='same')(input_layer)\n",
    "    conc = Concatenate()([up, skip_layer])\n",
    "    dec = conv_stack(conc, filters)\n",
    "\n",
    "    return dec"
   ]
  },
  {
   "cell_type": "code",
   "execution_count": 16,
   "metadata": {
    "collapsed": false,
    "pycharm": {
     "name": "#%%\n"
    }
   },
   "outputs": [],
   "source": [
    "def get_model(size, init_filters):\n",
    "    inputs = Input((size, size, 1))\n",
    "\n",
    "    conv1, max_pool1 = encoder_block(inputs, init_filters)\n",
    "    conv2, max_pool2 = encoder_block(max_pool1, init_filters * 2)\n",
    "    conv3, max_pool3 = encoder_block(max_pool2, init_filters * 4)\n",
    "\n",
    "    middle_block = conv_stack(max_pool3, init_filters * 8)\n",
    "\n",
    "    decoder1 = decoder_block(middle_block, conv3, init_filters * 4)\n",
    "    decoder2 = decoder_block(decoder1, conv2, init_filters * 2)\n",
    "    decoder3 = decoder_block(decoder2, conv1, init_filters)\n",
    "\n",
    "    # soft = Softmax(axis=1)(decoder3)\n",
    "    output_a = Conv2D(num_bins, 1, padding='same', activation='softmax')(decoder3)\n",
    "    # output_b = Conv2D(32, 1, padding='same', activation='softmax')(decoder3)\n",
    "\n",
    "    model = Model(inputs, output_a)\n",
    "    return model"
   ]
  },
  {
   "cell_type": "code",
   "execution_count": 17,
   "metadata": {
    "collapsed": false,
    "pycharm": {
     "name": "#%%\n"
    }
   },
   "outputs": [],
   "source": [
    "model_a = get_model(SIZE, 64)\n",
    "model_b = get_model(SIZE, 64)\n",
    "# model.summary()"
   ]
  },
  {
   "cell_type": "code",
   "execution_count": 18,
   "metadata": {
    "collapsed": false,
    "pycharm": {
     "name": "#%%\n"
    }
   },
   "outputs": [],
   "source": [
    "# Load Model\n",
    "model_a.load_weights(\"aero-color_a_10k.h5\")\n",
    "model_b.load_weights(\"aero-color_b_10k.h5\")"
   ]
  },
  {
   "cell_type": "code",
   "execution_count": 19,
   "metadata": {
    "collapsed": false,
    "pycharm": {
     "name": "#%%\n"
    }
   },
   "outputs": [],
   "source": [
    "# weight_a = [276.4182377999916, 10.096705660138996, 2.160336840606263, 1.8126515533081804, 0.3854523724941714,\n",
    "#             0.22361807604925382, 1.040882132359878, 1.6375415188587383, 4.57322774863995, 37.81061231083443]\n",
    "\n",
    "weight_a = [25.418237, 5.09670, 1.56033, 1.212651, 0.385452,\n",
    "            0.2236180, 1.04088, 1.137541, 1.5732, 10.8106]\n",
    "\n",
    "# weight_b = [263.46130653, 6.29587218, 2.67742605, 2.33413422, 0.63087839,\n",
    "#             0.31916905, 0.66331561, 0.56931914, 1.04141953, 10.7601525]\n",
    "weight_b = [23.46130, 2.29587, 1.67742, 1.23413, 0.63087,\n",
    "            0.31916, 0.66331, 0.56931, 0.84141, 2.7601]\n",
    "# model_a.compile(optimizer=Adam(0.01), loss=weighted_categorical_crossentropy(weights=weight_a), metrics='accuracy')\n",
    "# model_b.compile(optimizer=Adam(0.01), loss=weighted_categorical_crossentropy(weights=weight_b), metrics='accuracy')\n"
   ]
  },
  {
   "cell_type": "code",
   "execution_count": 98,
   "metadata": {
    "collapsed": false,
    "pycharm": {
     "name": "#%%\n"
    }
   },
   "outputs": [],
   "source": [
    "import os\n",
    "\n",
    "# Make data generator\n",
    "IMAGE_DIR = 'data/bnw/'\n",
    "A_DIR = 'data/a/'\n",
    "B_DIR = 'data/b/'\n",
    "\n",
    "img_paths = sorted(\n",
    "    [\n",
    "        os.path.join(IMAGE_DIR, fname)\n",
    "        for fname in os.listdir(IMAGE_DIR)\n",
    "        if fname.endswith(\".jpeg\")\n",
    "    ]\n",
    ")\n",
    "a_paths = sorted(\n",
    "    [\n",
    "        os.path.join(A_DIR, fname)\n",
    "        for fname in os.listdir(A_DIR)\n",
    "        if fname.endswith(\".jpeg\") and not fname.startswith(\".\")\n",
    "    ]\n",
    ")\n",
    "\n",
    "b_paths = sorted(\n",
    "    [\n",
    "        os.path.join(B_DIR, fname)\n",
    "        for fname in os.listdir(B_DIR)\n",
    "        if fname.endswith(\".jpeg\") and not fname.startswith(\".\")\n",
    "    ]\n",
    ")\n"
   ]
  },
  {
   "cell_type": "code",
   "execution_count": 21,
   "metadata": {
    "collapsed": false,
    "pycharm": {
     "name": "#%%\n"
    }
   },
   "outputs": [],
   "source": [
    "import random\n",
    "\n",
    "total_samples = N\n",
    "\n",
    "# random.Random(42).shuffle(img_paths)\n",
    "# random.Random(42).shuffle(a_paths)\n",
    "# random.Random(42).shuffle(b_paths)\n",
    "\n",
    "img_paths = img_paths[:total_samples]\n",
    "a_paths = a_paths[:total_samples]\n",
    "b_paths = b_paths[:total_samples]\n",
    "\n",
    "batch_size = 8\n",
    "\n",
    "load_data = LoadData(\n",
    "    batch_size, SIZE, img_paths, b_paths, bins\n",
    ")"
   ]
  },
  {
   "cell_type": "code",
   "execution_count": 22,
   "metadata": {},
   "outputs": [],
   "source": [
    "# Train Model\n",
    "callbacks_a = [\n",
    "    ModelCheckpoint(\"aero-color_a_ft.h5\", save_best_only=True, save_weights_only=True, monitor='loss')\n",
    "]\n",
    "\n",
    "callbacks_b = [\n",
    "    ModelCheckpoint(\"aero-color_b_ft.h5\", save_best_only=True, save_weights_only=True, monitor='loss')\n",
    "]\n",
    "\n",
    "model_a.fit(load_data, epochs=epochs, verbose=1, batch_size=batch_size, callbacks=callbacks_a)\n",
    "model_b.fit(load_data, epochs=epochs, verbose=1, batch_size=batch_size, callbacks=callbacks_b)"
   ]
  },
  {
   "cell_type": "code",
   "execution_count": 196,
   "metadata": {
    "collapsed": false,
    "pycharm": {
     "name": "#%%\n"
    }
   },
   "outputs": [],
   "source": [
    "INDEX = 25000\n",
    "X = cv2.imread(img_paths[INDEX], 0) / 255.0\n",
    "a = cv2.imread(a_paths[INDEX], 0)\n",
    "b = cv2.imread(b_paths[INDEX], 0)\n",
    "\n",
    "\n",
    "a_dummy = np.digitize(a, bins) - 1\n",
    "b_dummy = np.digitize(b, bins) - 1\n",
    "\n",
    "# X = cv2.imread('data/bnw/8.jpeg', 0) / 255.0\n",
    "# a = cv2.imread('data/a/8.jpeg', 0)\n",
    "# b = cv2.imread('data/b/8.jpeg', 0)\n"
   ]
  },
  {
   "cell_type": "code",
   "execution_count": 197,
   "metadata": {
    "collapsed": false,
    "pycharm": {
     "name": "#%%\n"
    }
   },
   "outputs": [],
   "source": [
    "a_hats = model_a.predict(X.reshape(1, SIZE, SIZE, 1))\n",
    "b_hats = model_b.predict(X.reshape(1, SIZE, SIZE, 1))"
   ]
  },
  {
   "cell_type": "code",
   "execution_count": 199,
   "metadata": {},
   "outputs": [],
   "source": [
    "# bin_vals_arr = np.array(bin_vals)\n",
    "\n",
    "a_hats = np.log(a_hats) / 0.38\n",
    "a_hats = np.exp(a_hats) / np.sum(np.exp(a_hats), axis=3, keepdims=True)\n",
    "a_hats = np.matmul(a_hats, bin_val)\n",
    "\n",
    "b_hats = np.log(b_hats) / 0.38\n",
    "b_hats = np.exp(b_hats) / np.sum(np.exp(b_hats), axis=3, keepdims=True)\n",
    "b_hats = np.matmul(b_hats, bin_val)\n"
   ]
  },
  {
   "cell_type": "code",
   "execution_count": 200,
   "outputs": [],
   "source": [
    "# a_hats = np.argmax(a_hats, axis=3)\n",
    "# b_hats = np.argmax(b_hats, axis=3)"
   ],
   "metadata": {
    "collapsed": false,
    "pycharm": {
     "name": "#%%\n"
    }
   }
  },
  {
   "cell_type": "code",
   "execution_count": 201,
   "metadata": {
    "collapsed": false,
    "pycharm": {
     "name": "#%%\n"
    }
   },
   "outputs": [
    {
     "data": {
      "text/plain": "True"
     },
     "execution_count": 201,
     "metadata": {},
     "output_type": "execute_result"
    }
   ],
   "source": [
    "# Real Image\n",
    "L = X.reshape((SIZE, SIZE)) * 255\n",
    "\n",
    "lab = np.array([L, a, b]).transpose((1, 2, 0)).astype('uint8')\n",
    "img = cv2.cvtColor(lab, cv2.COLOR_Lab2BGR)\n",
    "cv2.imwrite('001.jpeg', img)\n",
    "#"
   ]
  },
  {
   "cell_type": "code",
   "execution_count": 202,
   "metadata": {
    "collapsed": false,
    "pycharm": {
     "name": "#%%\n"
    }
   },
   "outputs": [
    {
     "data": {
      "text/plain": "True"
     },
     "execution_count": 202,
     "metadata": {},
     "output_type": "execute_result"
    }
   ],
   "source": [
    "# Real Image Binned\n",
    "# L = X.reshape((SIZE, SIZE)) * 255\n",
    "# a_dummy = bins[a_dummy] + 0.5 * (bins[a_dummy + 1] - bins[a_dummy])\n",
    "# b_dummy = bins[b_dummy] + 0.5 * (bins[b_dummy + 1] - bins[b_dummy])\n",
    "# lab = np.array([L, a_dummy, b_dummy]).transpose((1, 2, 0)).astype('uint8')\n",
    "# img = cv2.cvtColor(lab, cv2.COLOR_Lab2BGR)\n",
    "# cv2.imwrite('002.jpeg', img)\n"
   ]
  },
  {
   "cell_type": "code",
   "execution_count": 204,
   "outputs": [
    {
     "data": {
      "text/plain": "True"
     },
     "execution_count": 204,
     "metadata": {},
     "output_type": "execute_result"
    }
   ],
   "source": [
    "L = X.reshape((SIZE, SIZE)) * 255\n",
    "a_hat = a_hats[0, :, :].astype('int')\n",
    "b_hat = b_hats[0, :, :].astype('int')\n",
    "lab = np.array([L, a_hat, b_hat]).transpose((1, 2, 0)).astype('uint8')\n",
    "# lab = np.array([L, a_hat, b]).transpose((1, 2, 0)).astype('uint8')\n",
    "# lab = np.array([L, a, b_hat]).transpose((1, 2, 0)).astype('uint8')\n",
    "img = cv2.cvtColor(lab, cv2.COLOR_Lab2BGR)\n",
    "cv2.imwrite('002.jpeg', img)"
   ],
   "metadata": {
    "collapsed": false,
    "pycharm": {
     "name": "#%%\n"
    }
   }
  },
  {
   "cell_type": "code",
   "execution_count": 205,
   "metadata": {},
   "outputs": [],
   "source": [
    "# unique, counts = np.unique(a_binned, return_counts=True)\n",
    "# counts = counts / counts.sum()\n",
    "# # weights_a = counts.sum() / counts / num_bins\n",
    "# print(dict(zip(unique, counts)))"
   ]
  },
  {
   "cell_type": "code",
   "execution_count": 206,
   "metadata": {
    "collapsed": false,
    "pycharm": {
     "name": "#%%\n"
    }
   },
   "outputs": [
    {
     "data": {
      "text/plain": "True"
     },
     "execution_count": 206,
     "metadata": {},
     "output_type": "execute_result"
    }
   ],
   "source": [
    "cv2.imwrite('a_our.jpeg', a_hat)\n",
    "cv2.imwrite('a.jpeg', a)\n",
    "cv2.imwrite('b_our.jpeg', b_hat)\n",
    "cv2.imwrite('b.jpeg', b)"
   ]
  },
  {
   "cell_type": "code",
   "execution_count": 207,
   "metadata": {},
   "outputs": [
    {
     "data": {
      "text/plain": "True"
     },
     "execution_count": 207,
     "metadata": {},
     "output_type": "execute_result"
    }
   ],
   "source": [
    "cv2.imwrite('a_dummy.jpeg', a_dummy)\n",
    "cv2.imwrite('b_dummy.jpeg', b_dummy)\n",
    "cv2.imwrite('bnw.jpeg', L)"
   ]
  },
  {
   "cell_type": "code",
   "execution_count": 208,
   "outputs": [],
   "source": [
    "# unique, counts = np.unique(a_hats, return_counts=True)\n",
    "# counts = counts / counts.sum()\n",
    "# # weights_a = counts.sum() / counts / num_bins\n",
    "# print(dict(zip(unique, counts)))\n",
    "#\n",
    "# unique, counts = np.unique(a_dummy, return_counts=True)\n",
    "# counts = counts / counts.sum()\n",
    "# # weights_a = counts.sum() / counts / num_bins\n",
    "# print(dict(zip(unique, counts)))"
   ],
   "metadata": {
    "collapsed": false,
    "pycharm": {
     "name": "#%%\n"
    }
   }
  }
 ],
 "metadata": {
  "interpreter": {
   "hash": "57b46abc312806a63d80a7dd5b8c712df31d65b7c9ba39540c90a05878203ef6"
  },
  "kernelspec": {
   "name": "pycharm-db3b9cab",
   "language": "python",
   "display_name": "PyCharm (aero-color)"
  },
  "language_info": {
   "codemirror_mode": {
    "name": "ipython",
    "version": 3
   },
   "file_extension": ".py",
   "mimetype": "text/x-python",
   "name": "python",
   "nbconvert_exporter": "python",
   "pygments_lexer": "ipython3",
   "version": "3.8.12"
  },
  "orig_nbformat": 4
 },
 "nbformat": 4,
 "nbformat_minor": 2
}