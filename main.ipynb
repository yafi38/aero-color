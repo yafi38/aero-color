{
 "cells": [
  {
   "cell_type": "code",
   "execution_count": 40,
   "metadata": {},
   "outputs": [],
   "source": [
    "from tensorflow.keras.models import Model\n",
    "from tensorflow.keras.layers import Dense, Dropout, Input, ReLU, Softmax\n",
    "from tensorflow.keras.layers import Conv2D, MaxPooling2D, BatchNormalization, Conv2DTranspose, Concatenate\n",
    "from tensorflow.keras.optimizers import Adam\n",
    "from tensorflow.keras.callbacks import ModelCheckpoint\n",
    "from tensorflow.keras.utils import Sequence\n",
    "from tensorflow.keras.preprocessing.image import load_img\n",
    "from tensorflow.keras.utils import to_categorical\n"
   ]
  },
  {
   "cell_type": "code",
   "execution_count": 41,
   "metadata": {},
   "outputs": [],
   "source": [
    "import cv2\n",
    "import numpy as np"
   ]
  },
  {
   "cell_type": "code",
   "execution_count": 42,
   "metadata": {
    "collapsed": false,
    "pycharm": {
     "name": "#%%\n"
    }
   },
   "outputs": [],
   "source": [
    "from tensorflow.keras import backend as K\n",
    "\n",
    "\n",
    "def weighted_categorical_crossentropy(weights):\n",
    "    \"\"\"\n",
    "    A weighted version of keras.objectives.categorical_crossentropy\n",
    "\n",
    "    Variables:\n",
    "        weights: numpy array of shape (C,) where C is the number of classes\n",
    "\n",
    "    Usage:\n",
    "        weights = np.array([0.5,2,10]) # Class one at 0.5, class 2 twice the normal weights, class 3 10x.\n",
    "        loss = weighted_categorical_crossentropy(weights)\n",
    "        model.compile(loss=loss,optimizer='adam')\n",
    "    \"\"\"\n",
    "\n",
    "    weights = K.variable(weights)\n",
    "\n",
    "    def loss(y_true, y_pred):\n",
    "        # scale predictions so that the class probas of each sample sum to 1\n",
    "        y_pred /= K.sum(y_pred, axis=-1, keepdims=True)\n",
    "        # clip to prevent NaN's and Inf's\n",
    "        y_pred = K.clip(y_pred, K.epsilon(), 1 - K.epsilon())\n",
    "        # calc\n",
    "        loss = y_true * K.log(y_pred) * weights\n",
    "        loss = -K.sum(loss, -1)\n",
    "        return loss\n",
    "\n",
    "    return loss"
   ]
  },
  {
   "cell_type": "code",
   "execution_count": 43,
   "metadata": {
    "collapsed": false,
    "pycharm": {
     "name": "#%%\n"
    }
   },
   "outputs": [],
   "source": [
    "SIZE = 256\n",
    "N = 100"
   ]
  },
  {
   "cell_type": "code",
   "execution_count": 44,
   "metadata": {},
   "outputs": [],
   "source": [
    "# X = np.zeros((N, SIZE, SIZE))\n",
    "# A = np.zeros((N, SIZE, SIZE))\n",
    "# B = np.zeros((N, SIZE, SIZE))\n",
    "# for i in range(1, N + 1):\n",
    "#     X[i - 1] = cv2.imread('data/bnw/' + str(i + 7) + '.jpeg', 0)\n",
    "#     A[i - 1] = cv2.imread('data/a/' + str(i + 7) + '.jpeg', 0)\n",
    "#     B[i - 1] = cv2.imread('data/b/' + str(i + 7) + '.jpeg', 0)\n",
    "\n"
   ]
  },
  {
   "cell_type": "code",
   "execution_count": 45,
   "outputs": [],
   "source": [
    "# Data loader\n",
    "class LoadData(Sequence):\n",
    "    \"\"\"Helper to iterate over the data (as Numpy arrays).\"\"\"\n",
    "\n",
    "    def __init__(self, batch_size, img_size, img_paths, a_paths, bins):\n",
    "        self.batch_size = batch_size\n",
    "        self.img_size = img_size\n",
    "        self.img_paths = img_paths\n",
    "        self.a_paths = a_paths\n",
    "        self.bins = bins\n",
    "        self.classes = self.bins.shape[0] - 1\n",
    "\n",
    "    def __len__(self):\n",
    "        return len(self.img_paths) // self.batch_size\n",
    "\n",
    "    def __getitem__(self, idx):\n",
    "        \"\"\"Returns tuple (input, target) correspond to batch #idx.\"\"\"\n",
    "        i = idx * self.batch_size\n",
    "        batch_input_img_paths = self.img_paths[i: i + self.batch_size]\n",
    "        batch_a_paths = self.a_paths[i: i + self.batch_size]\n",
    "        x = np.zeros((self.batch_size, self.img_size, self.img_size), dtype=\"float32\")\n",
    "\n",
    "        for j, path in enumerate(batch_input_img_paths):\n",
    "            img = load_img(path, color_mode='grayscale')\n",
    "            x[j] = img\n",
    "        a = np.zeros((self.batch_size, self.img_size, self.img_size), dtype=\"uint8\")\n",
    "        for j, path in enumerate(batch_a_paths):\n",
    "            img = load_img(path, color_mode=\"grayscale\")\n",
    "            a[j] = img\n",
    "\n",
    "        x = x / 255\n",
    "        a_binned = np.digitize(a, self.bins) - 1\n",
    "        a_hot = to_categorical(a_binned, num_classes=self.classes)\n",
    "        output_shape = (self.batch_size, self.img_size, self.img_size, 1)\n",
    "\n",
    "        return x.reshape(output_shape), a_hot"
   ],
   "metadata": {
    "collapsed": false,
    "pycharm": {
     "name": "#%%\n"
    }
   }
  },
  {
   "cell_type": "code",
   "execution_count": 46,
   "metadata": {
    "collapsed": false,
    "pycharm": {
     "name": "#%%\n"
    }
   },
   "outputs": [],
   "source": [
    "bins_list = [0, 64, 96, 112, 120, 128, 136, 144, 160, 192, 256]\n",
    "num_bins = len(bins_list) - 1\n",
    "bins = np.array(bins_list)\n",
    "# a_binned = np.digitize(A, bins) - 1\n",
    "# b_binned = np.digitize(B, bins) - 1"
   ]
  },
  {
   "cell_type": "code",
   "execution_count": 47,
   "metadata": {
    "collapsed": false,
    "pycharm": {
     "name": "#%%\n"
    }
   },
   "outputs": [],
   "source": [
    "# One hot encode A and B\n",
    "\n",
    "# a_hot = to_categorical(a_binned)\n",
    "# b_hot = to_categorical(b_binned)"
   ]
  },
  {
   "cell_type": "code",
   "execution_count": 48,
   "metadata": {},
   "outputs": [],
   "source": [
    "# X = X.reshape(N, SIZE, SIZE, 1)\n",
    "# y = np.stack((A, B)).transpose((1, 2, 3, 0))"
   ]
  },
  {
   "cell_type": "code",
   "execution_count": 49,
   "metadata": {
    "collapsed": false,
    "pycharm": {
     "name": "#%%\n"
    }
   },
   "outputs": [],
   "source": [
    "# Normalize the data\n",
    "# X = X / 255\n",
    "# y = y / 255"
   ]
  },
  {
   "cell_type": "markdown",
   "metadata": {
    "collapsed": false,
    "pycharm": {
     "name": "#%% md\n"
    }
   },
   "source": [
    "Following are utility functions for creating a U-net Model"
   ]
  },
  {
   "cell_type": "code",
   "execution_count": 50,
   "metadata": {
    "collapsed": false,
    "pycharm": {
     "name": "#%%\n"
    }
   },
   "outputs": [],
   "source": [
    "def conv_stack(input_layer, filters):\n",
    "    conv1 = Conv2D(filters, 3, padding='same', kernel_initializer='he_normal')(input_layer)\n",
    "    batch_norm1 = BatchNormalization()(conv1)\n",
    "    relu1 = ReLU()(batch_norm1)\n",
    "\n",
    "    conv2 = Conv2D(filters, 3, padding='same', kernel_initializer='he_normal')(relu1)\n",
    "    batch_norm2 = BatchNormalization()(conv2)\n",
    "    relu2 = ReLU()(batch_norm2)\n",
    "\n",
    "    return relu2"
   ]
  },
  {
   "cell_type": "code",
   "execution_count": 51,
   "metadata": {
    "collapsed": false,
    "pycharm": {
     "name": "#%%\n"
    }
   },
   "outputs": [],
   "source": [
    "def encoder_block(input_layer, filters):\n",
    "    conv = conv_stack(input_layer, filters)\n",
    "    max_pool = MaxPooling2D(pool_size=(2, 2))(conv)\n",
    "\n",
    "    return conv, max_pool"
   ]
  },
  {
   "cell_type": "code",
   "execution_count": 52,
   "metadata": {
    "collapsed": false,
    "pycharm": {
     "name": "#%%\n"
    }
   },
   "outputs": [],
   "source": [
    "def decoder_block(input_layer, skip_layer, filters):\n",
    "    up = Conv2DTranspose(filters, 2, strides=2, padding='same')(input_layer)\n",
    "    conc = Concatenate()([up, skip_layer])\n",
    "    dec = conv_stack(conc, filters)\n",
    "\n",
    "    return dec"
   ]
  },
  {
   "cell_type": "code",
   "execution_count": 53,
   "metadata": {
    "collapsed": false,
    "pycharm": {
     "name": "#%%\n"
    }
   },
   "outputs": [],
   "source": [
    "def get_model(size, init_filters):\n",
    "    inputs = Input((size, size, 1))\n",
    "\n",
    "    conv1, max_pool1 = encoder_block(inputs, init_filters)\n",
    "    conv2, max_pool2 = encoder_block(max_pool1, init_filters * 2)\n",
    "    conv3, max_pool3 = encoder_block(max_pool2, init_filters * 4)\n",
    "\n",
    "    middle_block = conv_stack(max_pool3, init_filters * 8)\n",
    "\n",
    "    decoder1 = decoder_block(middle_block, conv3, init_filters * 4)\n",
    "    decoder2 = decoder_block(decoder1, conv2, init_filters * 2)\n",
    "    decoder3 = decoder_block(decoder2, conv1, init_filters)\n",
    "\n",
    "    # soft = Softmax(axis=1)(decoder3)\n",
    "    output_a = Conv2D(num_bins, 1, padding='same', activation='softmax')(decoder3)\n",
    "    # output_b = Conv2D(32, 1, padding='same', activation='softmax')(decoder3)\n",
    "\n",
    "    model = Model(inputs, output_a)\n",
    "    return model"
   ]
  },
  {
   "cell_type": "code",
   "execution_count": 54,
   "metadata": {
    "collapsed": false,
    "pycharm": {
     "name": "#%%\n"
    }
   },
   "outputs": [],
   "source": [
    "model_a = get_model(SIZE, 64)\n",
    "# model_b = get_model(SIZE, 64)\n",
    "# model.summary()"
   ]
  },
  {
   "cell_type": "code",
   "execution_count": 55,
   "metadata": {
    "collapsed": false,
    "pycharm": {
     "name": "#%%\n"
    }
   },
   "outputs": [],
   "source": [
    "# Load Model\n",
    "# model_a.load_weights(\"aero-color_a_v2.h5\")\n",
    "# model_b.load_weights(\"aero-color_b_v2.h5\")"
   ]
  },
  {
   "cell_type": "code",
   "execution_count": 56,
   "metadata": {
    "collapsed": false,
    "pycharm": {
     "name": "#%%\n"
    }
   },
   "outputs": [],
   "source": [
    "# weight_a = [276.4182377999916, 10.096705660138996, 2.160336840606263, 1.8126515533081804, 0.3854523724941714,\n",
    "#             0.22361807604925382, 1.040882132359878, 1.6375415188587383, 4.57322774863995, 37.81061231083443]\n",
    "\n",
    "weight_a = [50.4182377999916, 5.096705660138996, 1.160336840606263, 1.1126515533081804, 0.3854523724941714,\n",
    "            0.22361807604925382, 1.040882132359878, 1.1375415188587383, 2.57322774863995, 10.81061231083443]\n",
    "\n",
    "# weight_b = [263.46130653, 6.29587218, 2.67742605, 2.33413422, 0.63087839,\n",
    "#             0.31916905, 0.66331561, 0.56931914, 1.04141953, 10.7601525]\n",
    "weight_b = [23.46130653, 2.29587218, 1.67742605, 1.13413422, 0.63087839,\n",
    "            0.31916905, 0.66331561, 0.76931914, 0.84141953, 2.7601525]\n",
    "model_a.compile(optimizer=Adam(0.01), loss=weighted_categorical_crossentropy(weights=weight_a), metrics='accuracy')"
   ]
  },
  {
   "cell_type": "code",
   "execution_count": 57,
   "outputs": [],
   "source": [
    "import os\n",
    "\n",
    "# Make data generator\n",
    "IMAGE_DIR = 'data/bnw/'\n",
    "A_DIR = 'data/a/'\n",
    "B_DIR = 'data/b/'\n",
    "\n",
    "img_paths = sorted(\n",
    "    [\n",
    "        os.path.join(IMAGE_DIR, fname)\n",
    "        for fname in os.listdir(IMAGE_DIR)\n",
    "        if fname.endswith(\".jpeg\")\n",
    "    ]\n",
    ")\n",
    "a_paths = sorted(\n",
    "    [\n",
    "        os.path.join(A_DIR, fname)\n",
    "        for fname in os.listdir(A_DIR)\n",
    "        if fname.endswith(\".jpeg\") and not fname.startswith(\".\")\n",
    "    ]\n",
    ")\n",
    "\n",
    "b_paths = sorted(\n",
    "    [\n",
    "        os.path.join(B_DIR, fname)\n",
    "        for fname in os.listdir(B_DIR)\n",
    "        if fname.endswith(\".jpeg\") and not fname.startswith(\".\")\n",
    "    ]\n",
    ")\n"
   ],
   "metadata": {
    "collapsed": false,
    "pycharm": {
     "name": "#%%\n"
    }
   }
  },
  {
   "cell_type": "code",
   "execution_count": 58,
   "outputs": [
    {
     "name": "stdout",
     "output_type": "stream",
     "text": [
      "10\n"
     ]
    }
   ],
   "source": [
    "import random\n",
    "\n",
    "total_samples = N\n",
    "\n",
    "random.Random(42).shuffle(img_paths)\n",
    "random.Random(42).shuffle(a_paths)\n",
    "random.Random(42).shuffle(b_paths)\n",
    "\n",
    "img_paths = img_paths[:total_samples]\n",
    "a_paths = a_paths[:total_samples]\n",
    "# b_paths = b_paths[:total_samples]\n",
    "\n",
    "batch_size = 4\n",
    "\n",
    "load_data = LoadData(\n",
    "    batch_size, SIZE, img_paths, a_paths, bins\n",
    ")"
   ],
   "metadata": {
    "collapsed": false,
    "pycharm": {
     "name": "#%%\n"
    }
   }
  },
  {
   "cell_type": "code",
   "execution_count": 59,
   "metadata": {},
   "outputs": [
    {
     "name": "stdout",
     "output_type": "stream",
     "text": [
      "(4, 256, 256, 10)\n",
      "Epoch 1/5\n",
      "(4, 256, 256, 10)\n",
      "(4, 256, 256, 10)\n",
      " 1/25 [>.............................] - ETA: 3:18 - loss: 0.7937 - accuracy: 0.4449(4, 256, 256, 10)\n",
      " 2/25 [=>............................] - ETA: 2:04 - loss: 0.9889 - accuracy: 0.4475(4, 256, 256, 10)\n",
      " 3/25 [==>...........................] - ETA: 1:59 - loss: 1.0187 - accuracy: 0.3782(4, 256, 256, 10)\n"
     ]
    },
    {
     "ename": "KeyboardInterrupt",
     "evalue": "",
     "output_type": "error",
     "traceback": [
      "\u001B[1;31m---------------------------------------------------------------------------\u001B[0m",
      "\u001B[1;31mKeyboardInterrupt\u001B[0m                         Traceback (most recent call last)",
      "\u001B[1;32m~\\AppData\\Local\\Temp/ipykernel_4828/2507999862.py\u001B[0m in \u001B[0;36m<module>\u001B[1;34m\u001B[0m\n\u001B[0;32m      4\u001B[0m ]\n\u001B[0;32m      5\u001B[0m \u001B[1;33m\u001B[0m\u001B[0m\n\u001B[1;32m----> 6\u001B[1;33m \u001B[0mmodel_a\u001B[0m\u001B[1;33m.\u001B[0m\u001B[0mfit\u001B[0m\u001B[1;33m(\u001B[0m\u001B[0mload_data\u001B[0m\u001B[1;33m,\u001B[0m \u001B[0mepochs\u001B[0m\u001B[1;33m=\u001B[0m\u001B[1;36m5\u001B[0m\u001B[1;33m,\u001B[0m \u001B[0mverbose\u001B[0m\u001B[1;33m=\u001B[0m\u001B[1;36m1\u001B[0m\u001B[1;33m,\u001B[0m \u001B[0mbatch_size\u001B[0m\u001B[1;33m=\u001B[0m\u001B[1;36m4\u001B[0m\u001B[1;33m,\u001B[0m \u001B[0mcallbacks\u001B[0m\u001B[1;33m=\u001B[0m\u001B[0mcallbacks\u001B[0m\u001B[1;33m)\u001B[0m\u001B[1;33m\u001B[0m\u001B[1;33m\u001B[0m\u001B[0m\n\u001B[0m\u001B[0;32m      7\u001B[0m \u001B[1;33m\u001B[0m\u001B[0m\n",
      "\u001B[1;32m~\\miniconda3\\envs\\aero-color\\lib\\site-packages\\keras\\engine\\training.py\u001B[0m in \u001B[0;36mfit\u001B[1;34m(self, x, y, batch_size, epochs, verbose, callbacks, validation_split, validation_data, shuffle, class_weight, sample_weight, initial_epoch, steps_per_epoch, validation_steps, validation_batch_size, validation_freq, max_queue_size, workers, use_multiprocessing)\u001B[0m\n\u001B[0;32m   1182\u001B[0m                 _r=1):\n\u001B[0;32m   1183\u001B[0m               \u001B[0mcallbacks\u001B[0m\u001B[1;33m.\u001B[0m\u001B[0mon_train_batch_begin\u001B[0m\u001B[1;33m(\u001B[0m\u001B[0mstep\u001B[0m\u001B[1;33m)\u001B[0m\u001B[1;33m\u001B[0m\u001B[1;33m\u001B[0m\u001B[0m\n\u001B[1;32m-> 1184\u001B[1;33m               \u001B[0mtmp_logs\u001B[0m \u001B[1;33m=\u001B[0m \u001B[0mself\u001B[0m\u001B[1;33m.\u001B[0m\u001B[0mtrain_function\u001B[0m\u001B[1;33m(\u001B[0m\u001B[0miterator\u001B[0m\u001B[1;33m)\u001B[0m\u001B[1;33m\u001B[0m\u001B[1;33m\u001B[0m\u001B[0m\n\u001B[0m\u001B[0;32m   1185\u001B[0m               \u001B[1;32mif\u001B[0m \u001B[0mdata_handler\u001B[0m\u001B[1;33m.\u001B[0m\u001B[0mshould_sync\u001B[0m\u001B[1;33m:\u001B[0m\u001B[1;33m\u001B[0m\u001B[1;33m\u001B[0m\u001B[0m\n\u001B[0;32m   1186\u001B[0m                 \u001B[0mcontext\u001B[0m\u001B[1;33m.\u001B[0m\u001B[0masync_wait\u001B[0m\u001B[1;33m(\u001B[0m\u001B[1;33m)\u001B[0m\u001B[1;33m\u001B[0m\u001B[1;33m\u001B[0m\u001B[0m\n",
      "\u001B[1;32m~\\miniconda3\\envs\\aero-color\\lib\\site-packages\\tensorflow\\python\\eager\\def_function.py\u001B[0m in \u001B[0;36m__call__\u001B[1;34m(self, *args, **kwds)\u001B[0m\n\u001B[0;32m    883\u001B[0m \u001B[1;33m\u001B[0m\u001B[0m\n\u001B[0;32m    884\u001B[0m       \u001B[1;32mwith\u001B[0m \u001B[0mOptionalXlaContext\u001B[0m\u001B[1;33m(\u001B[0m\u001B[0mself\u001B[0m\u001B[1;33m.\u001B[0m\u001B[0m_jit_compile\u001B[0m\u001B[1;33m)\u001B[0m\u001B[1;33m:\u001B[0m\u001B[1;33m\u001B[0m\u001B[1;33m\u001B[0m\u001B[0m\n\u001B[1;32m--> 885\u001B[1;33m         \u001B[0mresult\u001B[0m \u001B[1;33m=\u001B[0m \u001B[0mself\u001B[0m\u001B[1;33m.\u001B[0m\u001B[0m_call\u001B[0m\u001B[1;33m(\u001B[0m\u001B[1;33m*\u001B[0m\u001B[0margs\u001B[0m\u001B[1;33m,\u001B[0m \u001B[1;33m**\u001B[0m\u001B[0mkwds\u001B[0m\u001B[1;33m)\u001B[0m\u001B[1;33m\u001B[0m\u001B[1;33m\u001B[0m\u001B[0m\n\u001B[0m\u001B[0;32m    886\u001B[0m \u001B[1;33m\u001B[0m\u001B[0m\n\u001B[0;32m    887\u001B[0m       \u001B[0mnew_tracing_count\u001B[0m \u001B[1;33m=\u001B[0m \u001B[0mself\u001B[0m\u001B[1;33m.\u001B[0m\u001B[0mexperimental_get_tracing_count\u001B[0m\u001B[1;33m(\u001B[0m\u001B[1;33m)\u001B[0m\u001B[1;33m\u001B[0m\u001B[1;33m\u001B[0m\u001B[0m\n",
      "\u001B[1;32m~\\miniconda3\\envs\\aero-color\\lib\\site-packages\\tensorflow\\python\\eager\\def_function.py\u001B[0m in \u001B[0;36m_call\u001B[1;34m(self, *args, **kwds)\u001B[0m\n\u001B[0;32m    915\u001B[0m       \u001B[1;31m# In this case we have created variables on the first call, so we run the\u001B[0m\u001B[1;33m\u001B[0m\u001B[1;33m\u001B[0m\u001B[1;33m\u001B[0m\u001B[0m\n\u001B[0;32m    916\u001B[0m       \u001B[1;31m# defunned version which is guaranteed to never create variables.\u001B[0m\u001B[1;33m\u001B[0m\u001B[1;33m\u001B[0m\u001B[1;33m\u001B[0m\u001B[0m\n\u001B[1;32m--> 917\u001B[1;33m       \u001B[1;32mreturn\u001B[0m \u001B[0mself\u001B[0m\u001B[1;33m.\u001B[0m\u001B[0m_stateless_fn\u001B[0m\u001B[1;33m(\u001B[0m\u001B[1;33m*\u001B[0m\u001B[0margs\u001B[0m\u001B[1;33m,\u001B[0m \u001B[1;33m**\u001B[0m\u001B[0mkwds\u001B[0m\u001B[1;33m)\u001B[0m  \u001B[1;31m# pylint: disable=not-callable\u001B[0m\u001B[1;33m\u001B[0m\u001B[1;33m\u001B[0m\u001B[0m\n\u001B[0m\u001B[0;32m    918\u001B[0m     \u001B[1;32melif\u001B[0m \u001B[0mself\u001B[0m\u001B[1;33m.\u001B[0m\u001B[0m_stateful_fn\u001B[0m \u001B[1;32mis\u001B[0m \u001B[1;32mnot\u001B[0m \u001B[1;32mNone\u001B[0m\u001B[1;33m:\u001B[0m\u001B[1;33m\u001B[0m\u001B[1;33m\u001B[0m\u001B[0m\n\u001B[0;32m    919\u001B[0m       \u001B[1;31m# Release the lock early so that multiple threads can perform the call\u001B[0m\u001B[1;33m\u001B[0m\u001B[1;33m\u001B[0m\u001B[1;33m\u001B[0m\u001B[0m\n",
      "\u001B[1;32m~\\miniconda3\\envs\\aero-color\\lib\\site-packages\\tensorflow\\python\\eager\\function.py\u001B[0m in \u001B[0;36m__call__\u001B[1;34m(self, *args, **kwargs)\u001B[0m\n\u001B[0;32m   3038\u001B[0m        filtered_flat_args) = self._maybe_define_function(args, kwargs)\n\u001B[0;32m   3039\u001B[0m     return graph_function._call_flat(\n\u001B[1;32m-> 3040\u001B[1;33m         filtered_flat_args, captured_inputs=graph_function.captured_inputs)  # pylint: disable=protected-access\n\u001B[0m\u001B[0;32m   3041\u001B[0m \u001B[1;33m\u001B[0m\u001B[0m\n\u001B[0;32m   3042\u001B[0m   \u001B[1;33m@\u001B[0m\u001B[0mproperty\u001B[0m\u001B[1;33m\u001B[0m\u001B[1;33m\u001B[0m\u001B[0m\n",
      "\u001B[1;32m~\\miniconda3\\envs\\aero-color\\lib\\site-packages\\tensorflow\\python\\eager\\function.py\u001B[0m in \u001B[0;36m_call_flat\u001B[1;34m(self, args, captured_inputs, cancellation_manager)\u001B[0m\n\u001B[0;32m   1962\u001B[0m       \u001B[1;31m# No tape is watching; skip to running the function.\u001B[0m\u001B[1;33m\u001B[0m\u001B[1;33m\u001B[0m\u001B[1;33m\u001B[0m\u001B[0m\n\u001B[0;32m   1963\u001B[0m       return self._build_call_outputs(self._inference_function.call(\n\u001B[1;32m-> 1964\u001B[1;33m           ctx, args, cancellation_manager=cancellation_manager))\n\u001B[0m\u001B[0;32m   1965\u001B[0m     forward_backward = self._select_forward_and_backward_functions(\n\u001B[0;32m   1966\u001B[0m         \u001B[0margs\u001B[0m\u001B[1;33m,\u001B[0m\u001B[1;33m\u001B[0m\u001B[1;33m\u001B[0m\u001B[0m\n",
      "\u001B[1;32m~\\miniconda3\\envs\\aero-color\\lib\\site-packages\\tensorflow\\python\\eager\\function.py\u001B[0m in \u001B[0;36mcall\u001B[1;34m(self, ctx, args, cancellation_manager)\u001B[0m\n\u001B[0;32m    594\u001B[0m               \u001B[0minputs\u001B[0m\u001B[1;33m=\u001B[0m\u001B[0margs\u001B[0m\u001B[1;33m,\u001B[0m\u001B[1;33m\u001B[0m\u001B[1;33m\u001B[0m\u001B[0m\n\u001B[0;32m    595\u001B[0m               \u001B[0mattrs\u001B[0m\u001B[1;33m=\u001B[0m\u001B[0mattrs\u001B[0m\u001B[1;33m,\u001B[0m\u001B[1;33m\u001B[0m\u001B[1;33m\u001B[0m\u001B[0m\n\u001B[1;32m--> 596\u001B[1;33m               ctx=ctx)\n\u001B[0m\u001B[0;32m    597\u001B[0m         \u001B[1;32melse\u001B[0m\u001B[1;33m:\u001B[0m\u001B[1;33m\u001B[0m\u001B[1;33m\u001B[0m\u001B[0m\n\u001B[0;32m    598\u001B[0m           outputs = execute.execute_with_cancellation(\n",
      "\u001B[1;32m~\\miniconda3\\envs\\aero-color\\lib\\site-packages\\tensorflow\\python\\eager\\execute.py\u001B[0m in \u001B[0;36mquick_execute\u001B[1;34m(op_name, num_outputs, inputs, attrs, ctx, name)\u001B[0m\n\u001B[0;32m     58\u001B[0m     \u001B[0mctx\u001B[0m\u001B[1;33m.\u001B[0m\u001B[0mensure_initialized\u001B[0m\u001B[1;33m(\u001B[0m\u001B[1;33m)\u001B[0m\u001B[1;33m\u001B[0m\u001B[1;33m\u001B[0m\u001B[0m\n\u001B[0;32m     59\u001B[0m     tensors = pywrap_tfe.TFE_Py_Execute(ctx._handle, device_name, op_name,\n\u001B[1;32m---> 60\u001B[1;33m                                         inputs, attrs, num_outputs)\n\u001B[0m\u001B[0;32m     61\u001B[0m   \u001B[1;32mexcept\u001B[0m \u001B[0mcore\u001B[0m\u001B[1;33m.\u001B[0m\u001B[0m_NotOkStatusException\u001B[0m \u001B[1;32mas\u001B[0m \u001B[0me\u001B[0m\u001B[1;33m:\u001B[0m\u001B[1;33m\u001B[0m\u001B[1;33m\u001B[0m\u001B[0m\n\u001B[0;32m     62\u001B[0m     \u001B[1;32mif\u001B[0m \u001B[0mname\u001B[0m \u001B[1;32mis\u001B[0m \u001B[1;32mnot\u001B[0m \u001B[1;32mNone\u001B[0m\u001B[1;33m:\u001B[0m\u001B[1;33m\u001B[0m\u001B[1;33m\u001B[0m\u001B[0m\n",
      "\u001B[1;31mKeyboardInterrupt\u001B[0m: "
     ]
    }
   ],
   "source": [
    "# Train Model\n",
    "callbacks = [\n",
    "    ModelCheckpoint(\"aero-color_a_test.h5\", save_best_only=True, save_weights_only=True, monitor='loss')\n",
    "]\n",
    "\n",
    "model_a.fit(load_data, epochs=5, verbose=1, batch_size=4, callbacks=callbacks)"
   ]
  },
  {
   "cell_type": "code",
   "execution_count": null,
   "outputs": [],
   "source": [
    "X = cv2.imread('data/bnw/' + str(7) + '.jpeg', 0)\n",
    "a = cv2.imread('data/a/' + str(7) + '.jpeg', 0)\n",
    "b = cv2.imread('data/b/' + str(7) + '.jpeg', 0)"
   ],
   "metadata": {
    "collapsed": false,
    "pycharm": {
     "name": "#%%\n"
    }
   }
  },
  {
   "cell_type": "code",
   "execution_count": null,
   "metadata": {
    "collapsed": false,
    "pycharm": {
     "name": "#%%\n"
    }
   },
   "outputs": [],
   "source": [
    "INDEX = 50"
   ]
  },
  {
   "cell_type": "code",
   "execution_count": null,
   "metadata": {
    "collapsed": false,
    "pycharm": {
     "name": "#%%\n"
    }
   },
   "outputs": [],
   "source": [
    "a_hats = model_a.predict(X.reshape(1, SIZE, SIZE, 1))\n",
    "# b_hats = model_b.predict(X[INDEX].reshape(1, SIZE, SIZE, 1))"
   ]
  },
  {
   "cell_type": "code",
   "execution_count": null,
   "metadata": {
    "collapsed": false,
    "pycharm": {
     "name": "#%%\n"
    }
   },
   "outputs": [],
   "source": [
    "# print(np.sum(a_hats[0, :, 0, 0]))\n",
    "# print(np.sum(a_hats[0, 0, :, 0]))\n",
    "# print(np.sum(a_hats[0, 0, 0, :]))"
   ]
  },
  {
   "cell_type": "code",
   "execution_count": null,
   "metadata": {
    "collapsed": false,
    "pycharm": {
     "name": "#%%\n"
    }
   },
   "outputs": [],
   "source": [
    "a_hats = np.argmax(a_hats, axis=3)\n",
    "# b_hats = np.argmax(b_hats, axis=3)\n",
    "# b_hats = np.argmax(b_hats, axis=3)"
   ]
  },
  {
   "cell_type": "code",
   "execution_count": null,
   "metadata": {
    "collapsed": false,
    "pycharm": {
     "name": "#%%\n"
    }
   },
   "outputs": [],
   "source": [
    "# Real Image\n",
    "# L = X[INDEX].reshape((SIZE, SIZE)) * 255\n",
    "# a = y[INDEX, :, :, 0] * 255\n",
    "# b = y[INDEX, :, :, 1] * 255\n",
    "# lab = np.array([L, a, b]).transpose((1, 2, 0)).astype('uint8')\n",
    "# img = cv2.cvtColor(lab, cv2.COLOR_Lab2BGR)\n",
    "# cv2.imwrite('001.jpeg', img)\n",
    "#"
   ]
  },
  {
   "cell_type": "code",
   "execution_count": null,
   "metadata": {
    "collapsed": false,
    "pycharm": {
     "name": "#%%\n"
    }
   },
   "outputs": [],
   "source": [
    "# # Real Image Binned\n",
    "# L = X[INDEX].reshape((SIZE, SIZE)) * 255\n",
    "# a2 = a_binned[INDEX, :, :]\n",
    "# b2 = b_binned[INDEX, :, :]\n",
    "# a2 = bins[a2] + 0.5 * (bins[a2 + 1] - bins[a2])\n",
    "# b2 = bins[b2] + 0.5 * (bins[b2 + 1] - bins[b2])\n",
    "# lab = np.array([L, a2, b2]).transpose((1, 2, 0)).astype('uint8')\n",
    "# img = cv2.cvtColor(lab, cv2.COLOR_Lab2BGR)\n",
    "# cv2.imwrite('002.jpeg', img)"
   ]
  },
  {
   "cell_type": "code",
   "execution_count": null,
   "metadata": {
    "collapsed": false,
    "pycharm": {
     "name": "#%%\n"
    }
   },
   "outputs": [],
   "source": [
    "L = X[INDEX].reshape((SIZE, SIZE)) * 255\n",
    "a_hat = a_hats[0, :, :]\n",
    "# b_hat = b[0, :, :]\n",
    "# a_hat = bins[a_hat] + 0.5 * (bins[a_hat + 1] - bins[a_hat])\n",
    "# b_hat = bins[b_hat] + 0.5 * (bins[b_hat + 1] - bins[b_hat])\n",
    "lab = np.array([L, a_hat, b]).transpose((1, 2, 0)).astype('uint8')\n",
    "img = cv2.cvtColor(lab, cv2.COLOR_Lab2BGR)\n",
    "cv2.imwrite('003.jpeg', img)"
   ]
  },
  {
   "cell_type": "code",
   "execution_count": null,
   "metadata": {},
   "outputs": [],
   "source": [
    "# unique, counts = np.unique(a_binned, return_counts=True)\n",
    "# counts = counts / counts.sum()\n",
    "# # weights_a = counts.sum() / counts / num_bins\n",
    "# print(dict(zip(unique, counts)))"
   ]
  },
  {
   "cell_type": "code",
   "execution_count": null,
   "outputs": [],
   "source": [
    "cv2.imwrite('a_our.jpeg', a_hat)\n",
    "cv2.imwrite('a.jpeg', a)\n",
    "# cv2.imwrite('b_our.jpeg', b_hat)\n",
    "# cv2.imwrite('b.jpeg', b2)"
   ],
   "metadata": {
    "collapsed": false,
    "pycharm": {
     "name": "#%%\n"
    }
   }
  }
 ],
 "metadata": {
  "interpreter": {
   "hash": "7251791416c4cf7805f32cf3351ab26a3a938d6d375d87f0e526b8adc7b7ffc7"
  },
  "kernelspec": {
   "display_name": "PyCharm (aero-color)",
   "language": "python",
   "name": "pycharm-db3b9cab"
  },
  "language_info": {
   "codemirror_mode": {
    "name": "ipython",
    "version": 3
   },
   "file_extension": ".py",
   "mimetype": "text/x-python",
   "name": "python",
   "nbconvert_exporter": "python",
   "pygments_lexer": "ipython3",
   "version": "3.7.12"
  },
  "orig_nbformat": 4
 },
 "nbformat": 4,
 "nbformat_minor": 2
}