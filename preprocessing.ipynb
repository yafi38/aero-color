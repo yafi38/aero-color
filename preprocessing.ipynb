{
 "cells": [
  {
   "cell_type": "code",
   "execution_count": null,
   "metadata": {
    "collapsed": true
   },
   "outputs": [],
   "source": []
  },
  {
   "cell_type": "code",
   "execution_count": 1,
   "outputs": [],
   "source": [
    "import cv2"
   ],
   "metadata": {
    "collapsed": false,
    "pycharm": {
     "name": "#%%\n"
    }
   }
  },
  {
   "cell_type": "code",
   "execution_count": 4,
   "outputs": [],
   "source": [
    "import numpy as np\n",
    "\n",
    "\n",
    "def scale_image(image, size):\n",
    "    image_height, image_width = image.shape[:2]\n",
    "\n",
    "    if image_height <= image_width:\n",
    "        ratio = image_width / image_height\n",
    "        h = size\n",
    "        w = int(ratio * h)\n",
    "\n",
    "        image = cv2.resize(image, (w, h))\n",
    "\n",
    "    else:\n",
    "        ratio = image_height / image_width\n",
    "        w = size\n",
    "        h = int(ratio * w)\n",
    "\n",
    "        image = cv2.resize(image, (w, h))\n",
    "\n",
    "    return image"
   ],
   "metadata": {
    "collapsed": false,
    "pycharm": {
     "name": "#%%\n"
    }
   }
  },
  {
   "cell_type": "code",
   "execution_count": 12,
   "outputs": [],
   "source": [
    "def center_crop(image, size):\n",
    "    image_height, image_width = image.shape[:2]\n",
    "\n",
    "    if image_height <= image_width and abs(image_width - size) > 1:\n",
    "\n",
    "        dx = int((image_width - size) / 2)\n",
    "        image = image[:, dx:-dx, :]\n",
    "    elif abs(image_height - size) > 1:\n",
    "        dy = int((image_height - size) / 2)\n",
    "        image = image[dy:-dy, :, :]\n",
    "\n",
    "    image_height, image_width = image.shape[:2]\n",
    "    if image_height is not size or image_width is not size:\n",
    "        image = cv2.resize(image, (size, size))\n",
    "\n",
    "    return image"
   ],
   "metadata": {
    "collapsed": false,
    "pycharm": {
     "name": "#%%\n"
    }
   }
  },
  {
   "cell_type": "code",
   "execution_count": 2,
   "outputs": [],
   "source": [
    "import os\n",
    "\n",
    "image_names = os.listdir('data/raw')"
   ],
   "metadata": {
    "collapsed": false,
    "pycharm": {
     "name": "#%%\n"
    }
   }
  },
  {
   "cell_type": "code",
   "execution_count": 18,
   "outputs": [],
   "source": [
    "def resize_image(image, size):\n",
    "    image = scale_image(image, size)\n",
    "    image = center_crop(image, size)\n",
    "    return image"
   ],
   "metadata": {
    "collapsed": false,
    "pycharm": {
     "name": "#%%\n"
    }
   }
  },
  {
   "cell_type": "code",
   "execution_count": 22,
   "outputs": [],
   "source": [
    "INPUT_DIR = 'data/raw/'\n",
    "OUTPUT_DIR = 'data/cropped/'\n",
    "for image_name in image_names:\n",
    "    image = cv2.imread(INPUT_DIR + image_name)\n",
    "    image_p = resize_image(image, 256)\n",
    "    cv2.imwrite(OUTPUT_DIR + image_name, image_p)"
   ],
   "metadata": {
    "collapsed": false,
    "pycharm": {
     "name": "#%%\n"
    }
   }
  },
  {
   "cell_type": "markdown",
   "source": [
    "Convert RGB image to Lab image\n",
    "Save the Black & White image and the a and b values"
   ],
   "metadata": {
    "collapsed": false
   }
  },
  {
   "cell_type": "code",
   "execution_count": 3,
   "outputs": [],
   "source": [
    "INPUT_DIR = 'data/cropped/'\n",
    "OUTPUT_IMAGE_DIR = 'data/bnw/'\n",
    "OUTPUT_A_DIR = 'data/a/'\n",
    "OUTPUT_B_DIR = 'data/b/'\n",
    "i = 1\n",
    "for image_name in image_names:\n",
    "    image = cv2.imread(INPUT_DIR + image_name)\n",
    "    lab = cv2.cvtColor(image, cv2.COLOR_BGR2LAB)\n",
    "    l, a, b = cv2.split(lab)\n",
    "    file_name = str(i) + '.jpeg'\n",
    "    i += 1\n",
    "    cv2.imwrite(OUTPUT_IMAGE_DIR + file_name, l)\n",
    "    cv2.imwrite(OUTPUT_A_DIR + file_name, a)\n",
    "    cv2.imwrite(OUTPUT_B_DIR + file_name, b)"
   ],
   "metadata": {
    "collapsed": false,
    "pycharm": {
     "name": "#%%\n"
    }
   }
  },
  {
   "cell_type": "markdown",
   "source": [
    "Read L, a, b values and convert it to a RGB image\n"
   ],
   "metadata": {
    "collapsed": false,
    "pycharm": {
     "name": "#%% md\n"
    }
   }
  },
  {
   "cell_type": "code",
   "execution_count": 9,
   "outputs": [],
   "source": [
    "import numpy as np\n",
    "\n",
    "L = cv2.imread(OUTPUT_IMAGE_DIR + '3.jpeg', 0)\n",
    "a = cv2.imread(OUTPUT_A_DIR + '3.jpeg', 0)\n",
    "b = cv2.imread(OUTPUT_B_DIR + '3.jpeg', 0)\n",
    "\n",
    "lab = np.array([L, a, b]).transpose((1, 2, 0))\n",
    "img = cv2.cvtColor(lab, cv2.COLOR_Lab2BGR)\n",
    "cv2.imwrite('001.jpeg', img)\n",
    "\n"
   ],
   "metadata": {
    "collapsed": false,
    "pycharm": {
     "name": "#%%\n"
    }
   }
  }
 ],
 "metadata": {
  "kernelspec": {
   "name": "pycharm-db3b9cab",
   "language": "python",
   "display_name": "PyCharm (aero-color)"
  },
  "language_info": {
   "codemirror_mode": {
    "name": "ipython",
    "version": 2
   },
   "file_extension": ".py",
   "mimetype": "text/x-python",
   "name": "python",
   "nbconvert_exporter": "python",
   "pygments_lexer": "ipython2",
   "version": "2.7.6"
  }
 },
 "nbformat": 4,
 "nbformat_minor": 0
}